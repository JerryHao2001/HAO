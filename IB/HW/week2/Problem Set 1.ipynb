{
 "cells": [
  {
   "cell_type": "markdown",
   "metadata": {},
   "source": [
    "# Problem 1 Set Code"
   ]
  },
  {
   "cell_type": "code",
   "execution_count": 1,
   "metadata": {},
   "outputs": [
    {
     "name": "stdout",
     "output_type": "stream",
     "text": [
      "5\n"
     ]
    }
   ],
   "source": [
    "#1\n",
    "s = 'azcbobobegghakl'\n",
    "\n",
    "summ = 0\n",
    "for i in s:\n",
    "    if i in 'aeiou':\n",
    "        summ += 1\n",
    "print(summ)"
   ]
  },
  {
   "cell_type": "code",
   "execution_count": 2,
   "metadata": {},
   "outputs": [
    {
     "name": "stdout",
     "output_type": "stream",
     "text": [
      "Number of times bob occurs is: 2\n"
     ]
    }
   ],
   "source": [
    "#2\n",
    "s = \"azcbobobegghakl\"\n",
    "\n",
    "count = 0\n",
    "for i in range(len(s)-1):\n",
    "    if s[i:i+3] == 'bob':\n",
    "        count += 1\n",
    "print(\"Number of times bob occurs is: \" + str(count))"
   ]
  },
  {
   "cell_type": "code",
   "execution_count": null,
   "metadata": {},
   "outputs": [],
   "source": [
    "#3\n",
    "s = 'azcbobobegghakl'\n",
    "\n",
    "def longestSubString(n):\n",
    "    for i in range(len(n),0,-1):\n",
    "        for j in range(len(n)-i+1):\n",
    "            sebString = n[j:j+i]\n",
    "            temp = 0\n",
    "            jug = 1\n",
    "            for k in sebString:\n",
    "                if ord(k) < temp:\n",
    "                    jug = 0\n",
    "                    break\n",
    "                else:\n",
    "                    temp = ord(k)\n",
    "            if jug == 1:\n",
    "                print(sebString)\n",
    "                return\n",
    "longestSubString(s)\n"
   ]
  }
 ],
 "metadata": {
  "kernelspec": {
   "display_name": "Python 3",
   "language": "python",
   "name": "python3"
  },
  "language_info": {
   "codemirror_mode": {
    "name": "ipython",
    "version": 3
   },
   "file_extension": ".py",
   "mimetype": "text/x-python",
   "name": "python",
   "nbconvert_exporter": "python",
   "pygments_lexer": "ipython3",
   "version": "3.6.5"
  }
 },
 "nbformat": 4,
 "nbformat_minor": 2
}
