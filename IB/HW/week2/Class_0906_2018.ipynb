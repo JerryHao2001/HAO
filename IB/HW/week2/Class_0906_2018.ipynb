{
 "cells": [
  {
   "cell_type": "markdown",
   "metadata": {},
   "source": [
    "## CREATING RECIPES\n",
    "\n",
    "*operation* - primitives\n",
    "\n",
    "*expression* - are complex but legal combinations of primitives in a programming language\n",
    "\n",
    "## ASPECTS OF LANGUAGES\n",
    "\n",
    "1. primitive constructs:\n",
    "\n",
    "        programming language: numbers, strings, simple operators\n",
    "    \n",
    "2. syntax error - simple mistake e.g.missing :\n",
    "\n",
    "3. static semantics error - syntactically valid strings have meaning(在程序运行之前 可被检测出的错误 - 静态语意) e.g 1+\"a\"\n",
    "\n",
    "4. semantics error - different meaning than what programmer intended \n",
    "\n",
    "## PYTHON PROGRAMS  \n",
    "\n",
    "PROGRAM\n",
    "\n",
    "programs is a sequence of definitions and commands.\n",
    "\n",
    "    difinitions evaluated\n",
    "    \n",
    "    commands(tell interpreter to do sth) executed by Python interpreter\n",
    "\n",
    "OBJECT\n",
    "\n",
    "*all things are objects*\n",
    "\n",
    "    scalar: int, float, bool, NoneType\n",
    "    \n",
    "    non-scalar: others"
   ]
  },
  {
   "cell_type": "code",
   "execution_count": 6,
   "metadata": {},
   "outputs": [
    {
     "data": {
      "text/plain": [
       "(NoneType, generator, bool, int)"
      ]
     },
     "execution_count": 6,
     "metadata": {},
     "output_type": "execute_result"
    }
   ],
   "source": [
    "type(None),type(i for i in range(5)),type(True),type(1)"
   ]
  },
  {
   "cell_type": "code",
   "execution_count": 4,
   "metadata": {},
   "outputs": [
    {
     "name": "stdout",
     "output_type": "stream",
     "text": [
      "5\n"
     ]
    },
    {
     "data": {
      "text/plain": [
       "NoneType"
      ]
     },
     "execution_count": 4,
     "metadata": {},
     "output_type": "execute_result"
    }
   ],
   "source": [
    "temp1 = 3+2\n",
    "type(temp1)\n",
    "temp2 = print(3+2)\n",
    "type(temp2)"
   ]
  },
  {
   "cell_type": "markdown",
   "metadata": {},
   "source": [
    "TYPE CONVERT - *CAST*\n",
    "\n",
    "EXPRESSIONS\n",
    "\n",
    "    combine objects and operators to form expressions\n",
    "    \n",
    "    an expression has a value, which has a type\n",
    "    \n",
    "    *syntax for a simple expression : <object> <operator> <object>\n",
    "    \n",
    "    \n",
    "INDENTATION !\n",
    "\n",
    "\n",
    "BRANCHING PROGRAM\n",
    "\n",
    "    linear program - each instruction runs one time -  constant running time"
   ]
  },
  {
   "cell_type": "markdown",
   "metadata": {},
   "source": [
    "\n",
    "\n",
    "    IDE'S\n",
    "        IDE - integrated development environment(集成开发环境)"
   ]
  },
  {
   "cell_type": "markdown",
   "metadata": {},
   "source": [
    "## Strings\n",
    "\n",
    "concatenate strings - \"a\" + \"b\" = \"ab\"\n",
    "successive concatenate - \"a\" * 3 = \"aaa\"\n",
    "get a copy - a[:]\n",
    "\n",
    "## Loop  -  lteration algorithms\n",
    "\n",
    "while loop\n",
    "\n",
    "    certain condition\n",
    "    \n",
    "for loop\n",
    "\n",
    "    certain times\n",
    "\n",
    "## Iteration \n",
    "    \n",
    "*The concept of Iteration let’s us extend simple branching algorithms to be able to write programs of arbitrary complexity*\n",
    "\n",
    "## exhaustive enumeration\n",
    "    \n",
    "*try everything possible*"
   ]
  }
 ],
 "metadata": {
  "kernelspec": {
   "display_name": "Python 3",
   "language": "python",
   "name": "python3"
  },
  "language_info": {
   "codemirror_mode": {
    "name": "ipython",
    "version": 3
   },
   "file_extension": ".py",
   "mimetype": "text/x-python",
   "name": "python",
   "nbconvert_exporter": "python",
   "pygments_lexer": "ipython3",
   "version": "3.6.5"
  }
 },
 "nbformat": 4,
 "nbformat_minor": 2
}
