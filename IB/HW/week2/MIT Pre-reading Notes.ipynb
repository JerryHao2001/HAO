{
 "cells": [
  {
   "cell_type": "markdown",
   "metadata": {},
   "source": [
    "# Chapter 1"
   ]
  },
  {
   "cell_type": "markdown",
   "metadata": {},
   "source": [
    "## Computational Thinking\n",
    "\n",
    "*Declarative knowledge*  -  is composed of statements of fact.\n",
    "\n",
    "*Imperative knowledge*  -  is “how to” knowledge, or recipes for deducing information. \n",
    "\n",
    "*Universal Turing Machine* - had an unbounded memory in the form of tape on which one could write zeros and ones, and some very simple primitive instructions for moving, reading, and writing to the tape.\n",
    "\n",
    "*Church-Turing thesis*  -  states that if a function is computable, a Turing Machine can be programmed to compute it.\n",
    "\n",
    "*halting problem*  -  an arbitrary program, call it P, prints true if and only if P will run forever. \n",
    "\n",
    "*Turing completeness*  -  A programming language is said to be Turing complete if it can be used to simulate a universal Turing Machine. \n",
    "\n",
    "*The primitive constructs* (in Python) include literals (e.g., the number 3.2 and the string 'abc') and infix operators (e.g., + and /)\n",
    "\n"
   ]
  },
  {
   "cell_type": "markdown",
   "metadata": {},
   "source": [
    "# Chapter 2"
   ]
  },
  {
   "cell_type": "markdown",
   "metadata": {},
   "source": [
    "## Programming Language\n",
    "\n",
    "* Low-level versus high-level \n",
    "\n",
    "* General versus targeted to an application domain \n",
    "\n",
    "    - whether the primitive operations of the programming language are widely applicable or are fine-tuned to a domain.\n",
    "\n",
    "* Interpreted versus compiled\n",
    "\n",
    "### Python\n",
    "\n",
    "* is a general-purpose programming language that can be used effectively to build almost any kind of program that does not need direct access to the computer’s hardware. \n",
    "    \n",
    "* is designed to be interpreted, it can provide the kind of runtime feedback that is especially helpful to novice programmers. There are also a large number of freely available libraries that interface to Python and provide useful extended functionality.\n",
    "    \n",
    "#### The Basic Elements of Python\n",
    "\n",
    "- Python program  called *scripts*  run in *shell*  include sequence of *commands(statements)* \n",
    "\n",
    "    - command = objects + operators\n",
    "    \n",
    "#### conditional statements --- indentation --- nested\n",
    "\n",
    "#### Computational Complexity\n",
    "\n",
    "    The study of the intrinsic difficulty of problems\n",
    "    "
   ]
  },
  {
   "cell_type": "markdown",
   "metadata": {},
   "source": [
    "# Chapter 3"
   ]
  },
  {
   "cell_type": "markdown",
   "metadata": {},
   "source": [
    "## Exhaustive Enumeration\n",
    "\n",
    "### decrementing function \n",
    "    \n",
    "    Function end a loop\n",
    "\n",
    "### Bisection Search\n",
    "* 寻找近似值的一种算法\n",
    "* 每次取当前值和真实值的平均数 逐次逼近\n",
    "\n",
    "### How computer store float with 0s and 1s\n",
    "\n",
    "*floating point*\n",
    "- the significant digits of the number and an exponent\n",
    "- e.g.1.949 => (1949,-3)\n",
    "- however computer use binary, thus:\n",
    "    5/8 => 5 X 2^3 => (101,-11)\n",
    "- What about the decimal fraction 1/10\n",
    "    - significant digits stored for the decimal number 0.1 will be 11001100110011001100110011001100110011001100110011001\n",
    "    - This is equivalent to the decimal number 0.1000000000000000055511151231257827021181583404541015625\n",
    "    - Pretty close to 1/10, but not exactly 1/10\n",
    "- It is almost always more appropriate to ask whether two floating point values are closeenough to each other, not whether they are identical. So, better to write abs(x-y) < 0.0001 rather than x == y.\n",
    "\n",
    "### Newton-Raphson\n",
    "find the root of a polynomial p:\n",
    "* guess – p(guess)/p’(guess)\n",
    "* This is called successive approximation"
   ]
  }
 ],
 "metadata": {
  "kernelspec": {
   "display_name": "Python 3",
   "language": "python",
   "name": "python3"
  },
  "language_info": {
   "codemirror_mode": {
    "name": "ipython",
    "version": 3
   },
   "file_extension": ".py",
   "mimetype": "text/x-python",
   "name": "python",
   "nbconvert_exporter": "python",
   "pygments_lexer": "ipython3",
   "version": "3.6.5"
  }
 },
 "nbformat": 4,
 "nbformat_minor": 2
}
