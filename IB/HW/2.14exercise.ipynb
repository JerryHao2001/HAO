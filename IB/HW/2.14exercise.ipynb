{
 "cells": [
  {
   "cell_type": "code",
   "execution_count": null,
   "metadata": {},
   "outputs": [],
   "source": [
    "Some interesting homework"
   ]
  },
  {
   "cell_type": "code",
   "execution_count": 2,
   "metadata": {
    "scrolled": true
   },
   "outputs": [
    {
     "name": "stdout",
     "output_type": "stream",
     "text": [
      "All work and no play makes Jack a dull boy.\n"
     ]
    }
   ],
   "source": [
    "#1 \n",
    "def DullBoyJack(n = \"All work and no play makes Jack a dull boy.\"):\n",
    "    a,b,c,d,e,f,g,h,i,j = n.split(' ')\n",
    "    print(a,b,c,d,e,f,g,h,i,j)\n",
    "DullBoyJack()    "
   ]
  },
  {
   "cell_type": "code",
   "execution_count": 6,
   "metadata": {},
   "outputs": [
    {
     "data": {
      "text/plain": [
       "-6"
      ]
     },
     "execution_count": 6,
     "metadata": {},
     "output_type": "execute_result"
    }
   ],
   "source": [
    "#2&3 emm... use 6 multiply the result of 1 minus 2 \n",
    "6 *(1 - 2)"
   ]
  },
  {
   "cell_type": "code",
   "execution_count": 7,
   "metadata": {},
   "outputs": [
    {
     "data": {
      "text/plain": [
       "10"
      ]
     },
     "execution_count": 7,
     "metadata": {},
     "output_type": "execute_result"
    }
   ],
   "source": [
    "#4 \n",
    "bruce = 6\n",
    "bruce + 4"
   ]
  },
  {
   "cell_type": "code",
   "execution_count": 8,
   "metadata": {},
   "outputs": [
    {
     "data": {
      "text/plain": [
       "10829.995068075097"
      ]
     },
     "execution_count": 8,
     "metadata": {},
     "output_type": "execute_result"
    }
   ],
   "source": [
    "#5\n",
    "def CalA(t,p = 10000,n = 12,r = 0.08):\n",
    "    A = p * (1 + r / n) ** (n * t)\n",
    "    return A\n",
    "CalA(1)"
   ]
  },
  {
   "cell_type": "code",
   "execution_count": 12,
   "metadata": {},
   "outputs": [
    {
     "name": "stdout",
     "output_type": "stream",
     "text": [
      "1 4 3 12 0 0\n",
      "integer division or modulo by zero\n"
     ]
    }
   ],
   "source": [
    "#6\n",
    "try:\n",
    "    print(5 % 2, 9 % 5, 15 % 12, 12 % 15, 6 % 6, 0 % 7)\n",
    "    print(7 % 0)\n",
    "except Exception as e:\n",
    "    print(e)"
   ]
  },
  {
   "cell_type": "code",
   "execution_count": 13,
   "metadata": {},
   "outputs": [
    {
     "data": {
      "text/plain": [
       "5"
      ]
     },
     "execution_count": 13,
     "metadata": {},
     "output_type": "execute_result"
    }
   ],
   "source": [
    "#7\n",
    "2 + 51  % 24"
   ]
  },
  {
   "cell_type": "code",
   "execution_count": 17,
   "metadata": {},
   "outputs": [
    {
     "name": "stdout",
     "output_type": "stream",
     "text": [
      "the time now(in 24 hour system)12\n",
      "number of hours19\n",
      "now is 7\n"
     ]
    }
   ],
   "source": [
    "#8\n",
    "now = eval(input(\"the time now(in 24 hour system)\"))\n",
    "hours = eval(input(\"number of hours\"))\n",
    "print(\"now is {}\".format((now + hours % 24)%24))"
   ]
  }
 ],
 "metadata": {
  "kernelspec": {
   "display_name": "Python 3",
   "language": "python",
   "name": "python3"
  },
  "language_info": {
   "codemirror_mode": {
    "name": "ipython",
    "version": 3
   },
   "file_extension": ".py",
   "mimetype": "text/x-python",
   "name": "python",
   "nbconvert_exporter": "python",
   "pygments_lexer": "ipython3",
   "version": "3.6.5"
  }
 },
 "nbformat": 4,
 "nbformat_minor": 2
}
