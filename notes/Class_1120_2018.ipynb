{
 "cells": [
  {
   "cell_type": "markdown",
   "metadata": {},
   "source": [
    "# Queue"
   ]
  },
  {
   "cell_type": "markdown",
   "metadata": {},
   "source": [
    "* Abstract data type\n",
    "* FIFO  \n",
    "* A ordered collection of data\n",
    "* Example: Printer"
   ]
  },
  {
   "cell_type": "markdown",
   "metadata": {},
   "source": [
    "## Methods"
   ]
  },
  {
   "cell_type": "markdown",
   "metadata": {},
   "source": [
    "- enqueue\n",
    "- dequeue\n",
    "- isEmpty\n",
    "- size"
   ]
  },
  {
   "cell_type": "code",
   "execution_count": 8,
   "metadata": {},
   "outputs": [
    {
     "name": "stdout",
     "output_type": "stream",
     "text": [
      "True\n",
      "[3]\n",
      "1\n",
      "3\n",
      "True\n"
     ]
    }
   ],
   "source": [
    "class Queue():\n",
    "    def __init__(self):\n",
    "        self.items = []\n",
    "    def isEmpty(self):\n",
    "        return self.items == []\n",
    "    def enqueue(self,n):\n",
    "        self.items.append(n)\n",
    "    def dequeue(self):\n",
    "        return self.items.pop(0)\n",
    "    def size(self):\n",
    "        return len(self.items)\n",
    "    def __str__(self):\n",
    "        return str(self.items)\n",
    "        \n",
    "if __name__ == '__main__':\n",
    "    myQueue = Queue()\n",
    "    print(myQueue.isEmpty())\n",
    "    myQueue.enqueue(3)\n",
    "    print(myQueue)\n",
    "    print(myQueue.size())\n",
    "    print(myQueue.dequeue())\n",
    "    print(myQueue.isEmpty())"
   ]
  },
  {
   "cell_type": "code",
   "execution_count": 9,
   "metadata": {},
   "outputs": [
    {
     "name": "stdout",
     "output_type": "stream",
     "text": [
      "['D']\n"
     ]
    }
   ],
   "source": [
    "def hotPotato(nameList,num):\n",
    "    temp = Queue()\n",
    "    for i in nameList:\n",
    "        temp.enqueue(i)\n",
    "    while temp.size() > 1:\n",
    "        for i in range(num):\n",
    "            temp.enqueue(temp.dequeue())\n",
    "        temp.dequeue()\n",
    "    return temp   \n",
    "\n",
    "print(hotPotato(['A','B','C','D','E','F','G'],7))\n"
   ]
  },
  {
   "cell_type": "code",
   "execution_count": null,
   "metadata": {},
   "outputs": [],
   "source": []
  }
 ],
 "metadata": {
  "kernelspec": {
   "display_name": "Python 3",
   "language": "python",
   "name": "python3"
  },
  "language_info": {
   "codemirror_mode": {
    "name": "ipython",
    "version": 3
   },
   "file_extension": ".py",
   "mimetype": "text/x-python",
   "name": "python",
   "nbconvert_exporter": "python",
   "pygments_lexer": "ipython3",
   "version": "3.6.5"
  }
 },
 "nbformat": 4,
 "nbformat_minor": 2
}
