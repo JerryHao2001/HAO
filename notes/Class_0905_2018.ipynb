{
 "cells": [
  {
   "cell_type": "markdown",
   "metadata": {},
   "source": [
    "# 课程安排"
   ]
  },
  {
   "cell_type": "markdown",
   "metadata": {},
   "source": [
    "网课 + 书 + 老师"
   ]
  },
  {
   "cell_type": "markdown",
   "metadata": {},
   "source": [
    "#  COMPUTER\n",
    "## CONCEPTIONS\n",
    "**Fundamentally:** \n",
    "\n",
    "    -calculations \n",
    "    \n",
    "    -memory results \n",
    "    \n",
    "**limits:**\n",
    "\n",
    "    -storage\n",
    "    \n",
    "    -complex problems\n",
    "    \n",
    "**declearative knowledge**\n",
    "\n",
    "    - statements of fact.\n",
    "\n",
    "**imperative knowledge** \n",
    "    - is a recipe or “how-to”knowledge\n",
    "\n",
    "## COMPUTER ARE MACHINES\n",
    "### fix program\n",
    "### stored program\n",
    "\n",
    "## BASIC MACHINE ARCHITECTURES"
   ]
  },
  {
   "cell_type": "code",
   "execution_count": 17,
   "metadata": {},
   "outputs": [
    {
     "name": "stdout",
     "output_type": "stream",
     "text": [
      "g = 5\n",
      "g**2 = 25\n",
      "g = 2.7\n",
      "g**2 = 7.290000000000001\n",
      "g = 1.7203703703703703\n",
      "g**2 = 2.9596742112482852\n",
      "g = 1.44145536817765\n",
      "g**2 = 2.0777935784481647\n",
      "g = 1.4144709813677712\n",
      "g**2 = 2.0007281571315056\n",
      "g = 1.4142135857968836\n",
      "g**2 = 2.0000000662524795\n"
     ]
    }
   ],
   "source": [
    "def SquareRoot(n):\n",
    "    g = 5\n",
    "    while True:\n",
    "        print(\"g =\",g)\n",
    "        print(\"g**2 =\",g**2)\n",
    "        if abs((n-(g**2))/n) < 10**(-6):\n",
    "            break\n",
    "        else:\n",
    "            g = (g+n/g)/2\n",
    "SquareRoot(2)"
   ]
  },
  {
   "cell_type": "markdown",
   "metadata": {},
   "source": [
    "# ALGORITHM\n",
    "\n",
    "1) sequence of simple steps\n",
    "\n",
    "2) flow of control processbthat specifies when each step is executed\n",
    "\n",
    "3) a means of determining when to stop\n",
    "\n",
    "Steps 1+2+3 = an algorithm!"
   ]
  },
  {
   "cell_type": "code",
   "execution_count": null,
   "metadata": {},
   "outputs": [],
   "source": []
  }
 ],
 "metadata": {
  "kernelspec": {
   "display_name": "Python 3",
   "language": "python",
   "name": "python3"
  },
  "language_info": {
   "codemirror_mode": {
    "name": "ipython",
    "version": 3
   },
   "file_extension": ".py",
   "mimetype": "text/x-python",
   "name": "python",
   "nbconvert_exporter": "python",
   "pygments_lexer": "ipython3",
   "version": "3.6.5"
  }
 },
 "nbformat": 4,
 "nbformat_minor": 2
}
